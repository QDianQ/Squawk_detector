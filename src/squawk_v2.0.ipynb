{
 "cells": [
  {
   "cell_type": "code",
   "execution_count": 1,
   "metadata": {},
   "outputs": [],
   "source": [
    "import warnings\n",
    "import numpy as np\n",
    "import pandas as pd\n",
    "import random\n",
    "import matplotlib\n",
    "import matplotlib.pyplot as plt\n",
    "import itertools\n",
    "from IPython.display import clear_output\n",
    "import operator\n",
    "from collections import Counter"
   ]
  },
  {
   "cell_type": "code",
   "execution_count": 2,
   "metadata": {},
   "outputs": [],
   "source": [
    "warnings.filterwarnings('ignore')\n",
    "matplotlib.style.use('ggplot')"
   ]
  },
  {
   "cell_type": "code",
   "execution_count": 3,
   "metadata": {},
   "outputs": [],
   "source": [
    "def to_Dex(input):\n",
    "\n",
    "    '''Функция выполняет декодирование двоичного сигнала сквока и возвращает десятичное число\\n\n",
    "\n",
    "    Parameters\n",
    "    ----------\n",
    "        input : dtype = int, двоичное число\\n'''\n",
    "\n",
    "    bin = str()\n",
    "    input = str(input)\n",
    "\n",
    "    n1 = int(input[1])*1 + int(input[3])*2 + int(input[5])*4\n",
    "    n2 = int(input[7])*1 + int(input[9])*2 + int(input[11])*4\n",
    "    n3 = int(input[0])*1 + int(input[2])*2 + int(input[4])*4\n",
    "    n4 = int(input[8])*1 + int(input[10])*2 + int(input[12])*4\n",
    "    \n",
    "    bin = int(str(n1) + str(n2) + str(n3) + str(n4))\n",
    "\n",
    "    return bin\n",
    "\n",
    "\n",
    "def to_Bin(number): # лютый хардкод (╯°□°）╯︵ ┻━┻, ужас, потом переделать \n",
    "    number = str(number)\n",
    "    binNumber = list('0000000000000')\n",
    "\n",
    "    dictOfRule = {\n",
    "        '0' : [0, 0, 0],\n",
    "        '1' : [1, 0, 0],\n",
    "        '2' : [0, 1, 0],\n",
    "        '3' : [1, 1, 0],\n",
    "        '4' : [0, 0, 1],\n",
    "        '5' : [1, 0, 1],\n",
    "        '6' : [0, 1, 1],\n",
    "        '7' : [1, 1, 1]\n",
    "    }\n",
    "    while(len(number)<4):\n",
    "        number = '0' + number\n",
    "\n",
    "    binNumber[0] = dictOfRule[number[2]][0]\n",
    "    binNumber[1] = dictOfRule[number[0]][0]\n",
    "    binNumber[2] = dictOfRule[number[2]][1]\n",
    "    binNumber[3] = dictOfRule[number[0]][1]\n",
    "    binNumber[4] = dictOfRule[number[2]][2]\n",
    "    binNumber[5] = dictOfRule[number[0]][2]\n",
    "    binNumber[6] = 0\n",
    "    binNumber[7] = dictOfRule[number[1]][0]\n",
    "    binNumber[8] = dictOfRule[number[3]][0]\n",
    "    binNumber[9] = dictOfRule[number[1]][1]\n",
    "    binNumber[10] = dictOfRule[number[3]][1]\n",
    "    binNumber[11] = dictOfRule[number[1]][2]\n",
    "    binNumber[12] = dictOfRule[number[3]][2]\n",
    "\n",
    "    bin = str()\n",
    "    for i in binNumber:\n",
    "        bin = bin + str(i)\n",
    "\n",
    "    return bin\n",
    "        \n",
    "def createCombinations(len):   # WARNING! словарь без пре- и постамбулы \n",
    "    \n",
    "    '''Функция возвращает словарь с комбинациями двоичного сигнала без повторений\\n\n",
    "    ключ словаря - номер сквока в десятичной системе\\n\n",
    "    значение ключа - двоичный код десятичного ключа\\n\n",
    "    P.S. по сути соблюдается декодирование двоичного кода сквока'''\n",
    "    \n",
    "    dictOfSeq = dict()\n",
    "    c = 0\n",
    "    for i in itertools.product('01', repeat=len):\n",
    "        s = ''.join(i)\n",
    "        # s = s[:6] + \"0\" + s[6:] # вставка позиции Х, которая всегда равна нулю\n",
    "        dictOfSeq[str(c)] = s\n",
    "        c = int(c)\n",
    "        c += 1\n",
    "    \n",
    "    return dictOfSeq\n",
    "\n",
    "def getIndexes(input):\n",
    "    for i in input:\n",
    "#         tmp = to_Bin(int(input.iloc[i][0]))\n",
    "        tmp = to_Bin(i)\n",
    "        ind = list()\n",
    "        for i in range(len(tmp)):\n",
    "            if tmp[i] == '1':\n",
    "                ind.append(i)\n",
    "            \n",
    "    return ind\n",
    "\n",
    "def createFromReal(input):\n",
    "    dictM = dict()\n",
    "    sortedDict = dict()\n",
    "    countStatus = 0\n",
    "    countM = 0\n",
    "    \n",
    "#     for i in input.index:\n",
    "    for i in input:\n",
    "#         tmp = to_Bin(int(input.iloc[i][0]))\n",
    "        tmp = to_Bin(i)\n",
    "        ind = list()\n",
    "        for i in range(len(tmp)):\n",
    "            if tmp[i] == '1':\n",
    "                ind.append(i)\n",
    "\n",
    "        # ind = getIndexes(input)\n",
    "    \n",
    "        tmp = [int(a) for a in tmp]\n",
    "        tmp = np.asfarray(tmp)\n",
    "\n",
    "        comb = createCombinations(len(ind))\n",
    "\n",
    "        dictCombs = dict()\n",
    "\n",
    "        for i in comb:  \n",
    "            out_s = [int(a) for a in comb[str(i)]]\n",
    "            count = 0\n",
    "            for j in ind:    \n",
    "                tmp[j] = out_s[count]\n",
    "                count += 1\n",
    "            dictCombs[i] = tmp.copy()\n",
    "\n",
    "\n",
    "        for j in dictCombs: \n",
    "            tl = str()       \n",
    "            for i in dictCombs[j]:\n",
    "                i = str(int(i))\n",
    "                tl = tl+i\n",
    "            dictM[countM] = [to_Dex(tl), tl]\n",
    "            countM += 1\n",
    "\n",
    "\n",
    "#         sortedDict = sorted(dictM.items(),key=operator.itemgetter(1))\n",
    "        sortedDict = sorted(dictM.values(),key=operator.itemgetter(1))\n",
    "        sortedDict = dict(sortedDict)\n",
    "        \n",
    "        countStatus += 1\n",
    "        clear_output(wait=True)\n",
    "        print(\"status:\\t\", countStatus/input.shape[0] * 100, \"%\")\n",
    "    return sortedDict\n",
    "\n",
    "\n",
    "def testFun(input):\n",
    "    dictM = dict()\n",
    "    sortedDict = dict()\n",
    "    countStatus = 0\n",
    "    countM = 0\n",
    "\n",
    "    #     for i in input.index:\n",
    "    for i in sq_uniq:\n",
    "    #         tmp = to_Bin(int(input.iloc[i][0]))\n",
    "        tmp = to_Bin(i)\n",
    "        ind = list()\n",
    "        for i in range(len(tmp)):\n",
    "            if tmp[i] == '1':\n",
    "                ind.append(i)\n",
    "\n",
    "        # ind = getIndexes(input)\n",
    "\n",
    "        tmp = [int(a) for a in tmp]\n",
    "        tmp = np.asfarray(tmp)\n",
    "\n",
    "        comb = createCombinations(len(ind))\n",
    "\n",
    "        dictCombs = dict()\n",
    "\n",
    "        for i in comb:  \n",
    "            out_s = [int(a) for a in comb[str(i)]]\n",
    "            count = 0\n",
    "            for j in ind:    \n",
    "                tmp[j] = out_s[count]\n",
    "                count += 1\n",
    "            dictCombs[i] = tmp.copy()\n",
    "\n",
    "\n",
    "        for j in dictCombs: \n",
    "            tl = str()       \n",
    "            for i in dictCombs[j]:\n",
    "                i = str(int(i))\n",
    "                tl = tl+i\n",
    "            dictM[countM] = to_Dex(tl)\n",
    "            countM += 1\n",
    "\n",
    "\n",
    "    #         sortedDict = sorted(dictM.items(),key=operator.itemgetter(1))\n",
    "        sortedDict = sorted(dictM.values())\n",
    "        # sortedDict = dict(sortedDict)\n",
    "        \n",
    "        countStatus += 1\n",
    "        clear_output(wait=True)\n",
    "        print(\"status:\\t\", countStatus/sq_uniq.shape[0] * 100, \"%\")\n",
    "    return sortedDict\n",
    "    "
   ]
  },
  {
   "cell_type": "code",
   "execution_count": 4,
   "metadata": {},
   "outputs": [
    {
     "data": {
      "text/html": [
       "<div>\n",
       "<style scoped>\n",
       "    .dataframe tbody tr th:only-of-type {\n",
       "        vertical-align: middle;\n",
       "    }\n",
       "\n",
       "    .dataframe tbody tr th {\n",
       "        vertical-align: top;\n",
       "    }\n",
       "\n",
       "    .dataframe thead th {\n",
       "        text-align: right;\n",
       "    }\n",
       "</style>\n",
       "<table border=\"1\" class=\"dataframe\">\n",
       "  <thead>\n",
       "    <tr style=\"text-align: right;\">\n",
       "      <th></th>\n",
       "      <th>label</th>\n",
       "      <th>sample1</th>\n",
       "      <th>sample2</th>\n",
       "      <th>sample3</th>\n",
       "      <th>sample4</th>\n",
       "      <th>sample5</th>\n",
       "      <th>sample6</th>\n",
       "      <th>sample7</th>\n",
       "      <th>sample8</th>\n",
       "      <th>sample9</th>\n",
       "      <th>...</th>\n",
       "      <th>sample76</th>\n",
       "      <th>sample77</th>\n",
       "      <th>sample78</th>\n",
       "      <th>sample79</th>\n",
       "      <th>sample80</th>\n",
       "      <th>sample81</th>\n",
       "      <th>sample82</th>\n",
       "      <th>sample83</th>\n",
       "      <th>sample84</th>\n",
       "      <th>sample85</th>\n",
       "    </tr>\n",
       "  </thead>\n",
       "  <tbody>\n",
       "    <tr>\n",
       "      <th>0</th>\n",
       "      <td>615</td>\n",
       "      <td>537.90</td>\n",
       "      <td>1647.9</td>\n",
       "      <td>396.92</td>\n",
       "      <td>97.252</td>\n",
       "      <td>81.320</td>\n",
       "      <td>86.279</td>\n",
       "      <td>941.60</td>\n",
       "      <td>1594.7</td>\n",
       "      <td>253.86</td>\n",
       "      <td>...</td>\n",
       "      <td>226.210</td>\n",
       "      <td>1471.8</td>\n",
       "      <td>985.31</td>\n",
       "      <td>40.706</td>\n",
       "      <td>20.248</td>\n",
       "      <td>81.615</td>\n",
       "      <td>297.470</td>\n",
       "      <td>1581.6</td>\n",
       "      <td>672.33</td>\n",
       "      <td>143.850</td>\n",
       "    </tr>\n",
       "    <tr>\n",
       "      <th>1</th>\n",
       "      <td>615</td>\n",
       "      <td>212.90</td>\n",
       "      <td>1657.5</td>\n",
       "      <td>1134.00</td>\n",
       "      <td>91.082</td>\n",
       "      <td>151.400</td>\n",
       "      <td>55.902</td>\n",
       "      <td>434.19</td>\n",
       "      <td>1804.9</td>\n",
       "      <td>907.44</td>\n",
       "      <td>...</td>\n",
       "      <td>83.217</td>\n",
       "      <td>1016.1</td>\n",
       "      <td>1744.10</td>\n",
       "      <td>121.200</td>\n",
       "      <td>40.012</td>\n",
       "      <td>31.064</td>\n",
       "      <td>81.615</td>\n",
       "      <td>1394.2</td>\n",
       "      <td>1494.40</td>\n",
       "      <td>53.085</td>\n",
       "    </tr>\n",
       "    <tr>\n",
       "      <th>2</th>\n",
       "      <td>615</td>\n",
       "      <td>105.22</td>\n",
       "      <td>1385.6</td>\n",
       "      <td>1053.30</td>\n",
       "      <td>125.210</td>\n",
       "      <td>18.248</td>\n",
       "      <td>51.856</td>\n",
       "      <td>265.71</td>\n",
       "      <td>1512.6</td>\n",
       "      <td>749.35</td>\n",
       "      <td>...</td>\n",
       "      <td>51.624</td>\n",
       "      <td>875.4</td>\n",
       "      <td>1556.00</td>\n",
       "      <td>189.560</td>\n",
       "      <td>69.116</td>\n",
       "      <td>63.159</td>\n",
       "      <td>76.164</td>\n",
       "      <td>1134.3</td>\n",
       "      <td>1245.20</td>\n",
       "      <td>90.609</td>\n",
       "    </tr>\n",
       "  </tbody>\n",
       "</table>\n",
       "<p>3 rows × 86 columns</p>\n",
       "</div>"
      ],
      "text/plain": [
       "   label  sample1  sample2  sample3  sample4  sample5  sample6  sample7  \\\n",
       "0    615   537.90   1647.9   396.92   97.252   81.320   86.279   941.60   \n",
       "1    615   212.90   1657.5  1134.00   91.082  151.400   55.902   434.19   \n",
       "2    615   105.22   1385.6  1053.30  125.210   18.248   51.856   265.71   \n",
       "\n",
       "   sample8  sample9  ...  sample76  sample77  sample78  sample79  sample80  \\\n",
       "0   1594.7   253.86  ...   226.210    1471.8    985.31    40.706    20.248   \n",
       "1   1804.9   907.44  ...    83.217    1016.1   1744.10   121.200    40.012   \n",
       "2   1512.6   749.35  ...    51.624     875.4   1556.00   189.560    69.116   \n",
       "\n",
       "   sample81  sample82  sample83  sample84  sample85  \n",
       "0    81.615   297.470    1581.6    672.33   143.850  \n",
       "1    31.064    81.615    1394.2   1494.40    53.085  \n",
       "2    63.159    76.164    1134.3   1245.20    90.609  \n",
       "\n",
       "[3 rows x 86 columns]"
      ]
     },
     "execution_count": 4,
     "metadata": {},
     "output_type": "execute_result"
    }
   ],
   "source": [
    "data = pd.read_csv('DataSet_Signal.csv', delimiter=';')\n",
    "noise = pd.read_csv(\"DataSet_Noise.csv\")\n",
    "data.head(3)"
   ]
  },
  {
   "cell_type": "code",
   "execution_count": 5,
   "metadata": {},
   "outputs": [],
   "source": [
    "listOfPoints = [2, 8, 14, 19, 25, 31, 37, 43, 49, 54, 60, 66, 72, 77, 83]  # порядковый номер столбцов в датасете соответствующий информационным импульсам (взят из excel)"
   ]
  },
  {
   "cell_type": "code",
   "execution_count": 6,
   "metadata": {},
   "outputs": [],
   "source": [
    "rules = {\n",
    "    0: [7,8,9],\n",
    "    1: [13,14,15],\n",
    "    2: [18,19,20],\n",
    "    3: [24,25,26],\n",
    "    4: [30,31,32],\n",
    "    5: [36,37,38],\n",
    "    6: [42,43,44],\n",
    "    7: [48,49,50],\n",
    "    8: [53,54,55],\n",
    "    9: [59,60,61],\n",
    "    10: [65,66,67],\n",
    "    11: [71,72,73],\n",
    "    12: [76,77,78]\n",
    "}"
   ]
  },
  {
   "cell_type": "code",
   "execution_count": 7,
   "metadata": {},
   "outputs": [
    {
     "name": "stdout",
     "output_type": "stream",
     "text": [
      "1000000011011\n"
     ]
    },
    {
     "data": {
      "text/plain": [
       "[0, 8, 9, 11, 12]"
      ]
     },
     "execution_count": 7,
     "metadata": {},
     "output_type": "execute_result"
    }
   ],
   "source": [
    "tmp = to_Bin(615)\n",
    "ind = list()\n",
    "for i in range(len(tmp)):\n",
    "    if tmp[i] == '1':\n",
    "        ind.append(i)\n",
    "print(tmp)\n",
    "ind"
   ]
  },
  {
   "cell_type": "code",
   "execution_count": 8,
   "metadata": {},
   "outputs": [],
   "source": [
    "# ----------------------------------"
   ]
  },
  {
   "cell_type": "code",
   "execution_count": 9,
   "metadata": {
    "scrolled": true
   },
   "outputs": [
    {
     "name": "stdout",
     "output_type": "stream",
     "text": [
      "status:\t 100.0 %\n"
     ]
    }
   ],
   "source": [
    "sq_uniq = data['label'].unique()\n",
    "dataDict = dict()\n",
    "sd = testFun(sq_uniq)\n",
    "sd = np.asfarray(sd, dtype=int)"
   ]
  },
  {
   "cell_type": "code",
   "execution_count": 10,
   "metadata": {},
   "outputs": [
    {
     "name": "stdout",
     "output_type": "stream",
     "text": [
      "Уникальные значения: [ 615 1220 1524 1551 2042 2175 2403 2404 2406 2421 2422 2454 2457 5124\n",
      " 5224 5401 5724 6224 6234 6737 7360 7624]\n",
      "Всего уникальных: 22\n",
      "\n",
      "Создано из имеющихся:\n",
      "\tвсего записей: 2088\n",
      "\tиз них уникальных: 1328\n"
     ]
    }
   ],
   "source": [
    "print(\"Уникальные значения: {0}\\nВсего уникальных: {1}\"\n",
    "    .format(sq_uniq,len(sq_uniq)))\n",
    "print(\"\\nСоздано из имеющихся:\\n\\tвсего записей: {0}\\n\\tиз них уникальных: {1}\"\n",
    "    .format(len(sd),np.unique(sd).shape[0]))"
   ]
  },
  {
   "cell_type": "code",
   "execution_count": 11,
   "metadata": {},
   "outputs": [
    {
     "data": {
      "image/png": "[encoded data removed]",
      "text/plain": [
       "<Figure size 432x288 with 1 Axes>"
      ]
     },
     "metadata": {},
     "output_type": "display_data"
    }
   ],
   "source": [
    "c = Counter(sd)\n",
    "fig, ax = plt.subplots()\n",
    "ax.bar(c.keys(),c.values(), width=1, edgecolor=\"red\", linewidth=0.7)\n",
    "plt.show()"
   ]
  },
  {
   "cell_type": "code",
   "execution_count": 12,
   "metadata": {},
   "outputs": [],
   "source": [
    "# ----------------------------------"
   ]
  },
  {
   "cell_type": "code",
   "execution_count": 13,
   "metadata": {},
   "outputs": [
    {
     "data": {
      "text/plain": [
       "<AxesSubplot:>"
      ]
     },
     "execution_count": 13,
     "metadata": {},
     "output_type": "execute_result"
    },
    {
     "data": {
      "image/png": "[encoded data removed]",
      "text/plain": [
       "<Figure size 432x288 with 1 Axes>"
      ]
     },
     "metadata": {},
     "output_type": "display_data"
    }
   ],
   "source": [
    "data.iloc[0][1:].plot()"
   ]
  },
  {
   "cell_type": "code",
   "execution_count": 14,
   "metadata": {},
   "outputs": [],
   "source": [
    "for i in ind:\n",
    "    data.at[0,'sample'+str(rules[i][0])] = noise.at[0,'sample'+str(rules[i][0])]\n",
    "    data.at[0,'sample'+str(rules[i][1])] = noise.at[0,'sample'+str(rules[i][1])]\n",
    "    data.at[0,'sample'+str(rules[i][2])] = noise.at[0,'sample'+str(rules[i][2])]"
   ]
  },
  {
   "cell_type": "code",
   "execution_count": null,
   "metadata": {},
   "outputs": [],
   "source": []
  }
 ],
 "metadata": {
  "kernelspec": {
   "display_name": "Python 3 (ipykernel)",
   "language": "python",
   "name": "python3"
  },
  "language_info": {
   "codemirror_mode": {
    "name": "ipython",
    "version": 3
   },
   "file_extension": ".py",
   "mimetype": "text/x-python",
   "name": "python",
   "nbconvert_exporter": "python",
   "pygments_lexer": "ipython3",
   "version": "3.6.8"
  }
 },
 "nbformat": 4,
 "nbformat_minor": 4
}
